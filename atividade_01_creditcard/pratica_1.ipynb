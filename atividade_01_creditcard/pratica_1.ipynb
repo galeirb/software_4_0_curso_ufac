{
  "nbformat": 4,
  "nbformat_minor": 0,
  "metadata": {
    "colab": {
      "name": "pratica_1.ipynb",
      "provenance": [],
      "collapsed_sections": []
    },
    "kernelspec": {
      "name": "python3",
      "display_name": "Python 3"
    },
    "language_info": {
      "name": "python"
    }
  },
  "cells": [
    {
      "cell_type": "code",
      "execution_count": null,
      "metadata": {
        "colab": {
          "base_uri": "https://localhost:8080/"
        },
        "id": "C3MgGBZ2tgZb",
        "outputId": "25ffa976-1821-4fff-a2ff-25b0cb8f2d93"
      },
      "outputs": [
        {
          "output_type": "stream",
          "name": "stdout",
          "text": [
            "Drive already mounted at /content/gdrive; to attempt to forcibly remount, call drive.mount(\"/content/gdrive\", force_remount=True).\n",
            "------------------\n",
            "Cartão número 0:\n",
            "Informações inseridas corretamente!\n",
            "------------------\n",
            "------------------\n",
            "Cartão número 1:\n",
            "O mês não possui 2 caracteres!\n",
            "------------------\n",
            "------------------\n",
            "Cartão número 2:\n",
            "Cartão vencido!\n",
            "Bandeira do cartão não aceita!\n",
            "------------------\n",
            "------------------\n",
            "Cartão número 3:\n",
            "Mês de expiração incorreto!\n",
            "Bandeira do cartão não aceita!\n",
            "------------------\n",
            "------------------\n",
            "Cartão número 4:\n",
            "O número do cartão não possui 16 caracteres!\n",
            "Mês de expiração incorreto!\n",
            "O código de segurança não possui 3 caracteres!\n",
            "------------------\n",
            "------------------\n",
            "Cartão número 5:\n",
            "Mês de expiração incorreto!\n",
            "O código de segurança não possui 3 caracteres!\n",
            "------------------\n",
            "------------------\n",
            "Cartão número 6:\n",
            "O mês não possui 2 caracteres!\n",
            "------------------\n"
          ]
        }
      ],
      "source": [
        "# Utilizado para importar a classe CreditCard no Google Colab\n",
        "from google.colab import drive\n",
        "import sys\n",
        "drive.mount('/content/gdrive')\n",
        "sys.path.insert(0, '/content/gdrive/MyDrive/ColabNotebooks')\n",
        "from creditcard import CreditCard\n",
        "\n",
        "# Utilizado para importar os dados do cartão\n",
        "import pandas as pd\n",
        "cards=pd.read_json('/content/gdrive/MyDrive/ColabNotebooks/cards.json')\n",
        "\n",
        "#Código utilizado para validar todos os dados\n",
        "cards_qtd=len(cards)\n",
        "\n",
        "for i in range(cards_qtd):\n",
        "    number = str(cards.number[i])\n",
        "    cardholder_name = cards.cardholder_name[i]\n",
        "    security_code = str(cards.security_code[i])\n",
        "    expiration_month = str(cards.expiration_month[i])\n",
        "    expiration_year = str(cards.expiration_year[i])\n",
        "    print('------------------')\n",
        "    print('Cartão número ' + str(i) + ':')\n",
        "    credit_card_1 = CreditCard(cardholder_name, number, expiration_month, \n",
        "                               expiration_year, security_code)\n",
        "    credit_card_1.validar_credit_card()\n",
        "    print('------------------')"
      ]
    }
  ]
}